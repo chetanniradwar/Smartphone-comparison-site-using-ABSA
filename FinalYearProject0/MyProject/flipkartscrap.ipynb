{
 "metadata": {
  "language_info": {
   "codemirror_mode": {
    "name": "ipython",
    "version": 3
   },
   "file_extension": ".py",
   "mimetype": "text/x-python",
   "name": "python",
   "nbconvert_exporter": "python",
   "pygments_lexer": "ipython3",
   "version": "3.7.9-final"
  },
  "orig_nbformat": 2,
  "kernelspec": {
   "name": "python3",
   "display_name": "Python 3.7.9 64-bit",
   "metadata": {
    "interpreter": {
     "hash": "38e7b640556d1cb325d59895c304c05c45c9f079e0dc6b5c1382eca14d8c2696"
    }
   }
  }
 },
 "nbformat": 4,
 "nbformat_minor": 2,
 "cells": [
  {
   "cell_type": "code",
   "execution_count": 7,
   "metadata": {},
   "outputs": [],
   "source": [
    "from selenium import webdriver\n",
    "from bs4 import BeautifulSoup\n",
    "import requests as rq\n",
    "import pandas as pd\n",
    "import re"
   ]
  },
  {
   "cell_type": "code",
   "execution_count": 42,
   "metadata": {},
   "outputs": [],
   "source": [
    "url1='https://www.flipkart.com/moto-g-5g-volcanic-grey-128-gb/p/itm5bafe435ec358'\n",
    "driver=webdriver.Chrome(executable_path=r\"C:\\Users\\Chetan Niradwar\\Downloads\\chromedriver.exe\")\n",
    "driver.maximize_window()\n",
    "driver.get(url1)\n",
    "\n",
    "r1=rq.get(url1)\n",
    "soup1 =BeautifulSoup(r1.text,'html.parser')\n"
   ]
  },
  {
   "cell_type": "code",
   "execution_count": 43,
   "metadata": {},
   "outputs": [
    {
     "output_type": "stream",
     "name": "stdout",
     "text": [
      "['/moto-g-5g-volcanic-grey-128-gb/product-reviews/itm5bafe435ec358?pid=MOBFTZE7GER2URWX&lid=LSTMOBFTZE7GER2URWXCMILGC&aid=dc0f2b2d-7619-44cc-b5fc-2fe3e4d453a7&mid=FLIPKART&fid=21d43a84-9d3b-44b1-9a88-7a883e3fcecd.MOBFTZE7GER2URWX&an=Camera&cat=Mobile&vert=Handset', '/moto-g-5g-volcanic-grey-128-gb/product-reviews/itm5bafe435ec358?pid=MOBFTZE7GER2URWX&lid=LSTMOBFTZE7GER2URWXCMILGC&aid=3ac62744-ab96-4f53-82f7-02eb72b6a662&mid=FLIPKART&fid=21d43a84-9d3b-44b1-9a88-7a883e3fcecd.MOBFTZE7GER2URWX&an=Battery&cat=Mobile&vert=Handset', '/moto-g-5g-volcanic-grey-128-gb/product-reviews/itm5bafe435ec358?pid=MOBFTZE7GER2URWX&lid=LSTMOBFTZE7GER2URWXCMILGC&aid=b32e49f9-79fd-4798-98ad-51dd89a408d0&mid=FLIPKART&fid=21d43a84-9d3b-44b1-9a88-7a883e3fcecd.MOBFTZE7GER2URWX&an=Display&cat=Mobile&vert=Handset', '/moto-g-5g-volcanic-grey-128-gb/product-reviews/itm5bafe435ec358?pid=MOBFTZE7GER2URWX&lid=LSTMOBFTZE7GER2URWXCMILGC&aid=00ab4120-12b2-4a8f-b4e0-b426e17a27ca&mid=FLIPKART&fid=21d43a84-9d3b-44b1-9a88-7a883e3fcecd.MOBFTZE7GER2URWX&an=Value for Money&cat=Mobile&vert=Handset']\n"
     ]
    }
   ],
   "source": [
    "driver.execute_script('window.scroll(0,3500)')\n",
    "link=[]\n",
    "comment=[]\n",
    "for t in soup1.findAll('a',attrs=({'class':'col-3-12 hXkZu- _1pxF-h','href':re.compile(\"/product-reviews/\")})) :\n",
    "    q = t.get('href')\n",
    "    link.append(q)\n",
    "print(link)\n",
    "\n",
    "       "
   ]
  },
  {
   "cell_type": "code",
   "execution_count": 44,
   "metadata": {},
   "outputs": [
    {
     "output_type": "stream",
     "name": "stdout",
     "text": [
      "/moto-g-5g-volcanic-grey-128-gb/product-reviews/itm5bafe435ec358?pid=MOBFTZE7GER2URWX&lid=LSTMOBFTZE7GER2URWXCMILGC&aid=dc0f2b2d-7619-44cc-b5fc-2fe3e4d453a7&mid=FLIPKART&fid=21d43a84-9d3b-44b1-9a88-7a883e3fcecd.MOBFTZE7GER2URWX&an=Camera&cat=Mobile&vert=Handset\n/moto-g-5g-volcanic-grey-128-gb/product-reviews/itm5bafe435ec358?pid=MOBFTZE7GER2URWX&lid=LSTMOBFTZE7GER2URWXCMILGC&aid=00ab4120-12b2-4a8f-b4e0-b426e17a27ca&mid=FLIPKART&fid=21d43a84-9d3b-44b1-9a88-7a883e3fcecd.MOBFTZE7GER2URWX&an=Value for Money&cat=Mobile&vert=Handset\n"
     ]
    }
   ],
   "source": [
    "camera_link=link[0]\n",
    "battery_link=link[1]\n",
    "display_link=link[2]\n",
    "vfm_link=link[3]\n",
    "\n",
    "print(camera_link)\n",
    "print(vfm_link)"
   ]
  },
  {
   "cell_type": "code",
   "execution_count": 75,
   "metadata": {},
   "outputs": [],
   "source": [
    "\n",
    "camera_reviews=[]\n",
    "battery_reviews=[]\n",
    "display_reviews=[]\n",
    "vfm_reviews=[]\n",
    "performance_reviews=[]\n",
    "def flipkart_scapper(apsect_link):\n",
    "    review_list=[]\n",
    "    l_url=('https://www.flipkart.com'+str(apsect_link))\n",
    "    i=1\n",
    "    while i<=2:\n",
    "        ss=driver.get(str(l_url)+'&page='+str(i))\n",
    "        qq=driver.current_url\n",
    "        r2=rq.get(qq)\n",
    "        soup=BeautifulSoup(r2.text,'html.parser')\n",
    "        for co in soup.find_all('div',{'class':'t-ZTKy'}) :\n",
    "            cc=co.get_text()\n",
    "            cc=cc.replace('...','')\n",
    "            cl=cc.replace('READ MORE','')\n",
    "\n",
    "            \n",
    "            review_list.append(cl)\n",
    "        i=i+1\n",
    "    return review_list  \n",
    "flk_camera_reviews=flipkart_scapper(camera_link)\n",
    "flk_battery_reviews=flipkart_scapper(battery_link)\n",
    "flk_display_reviews=flipkart_scapper(display_link)\n",
    "flk_vfm_reviews=flipkart_scapper(vfm_link)\n",
    "\n",
    "#  flipkart_scapper(camera_link)"
   ]
  },
  {
   "cell_type": "code",
   "execution_count": 74,
   "metadata": {},
   "outputs": [
    {
     "output_type": "stream",
     "name": "stdout",
     "text": [
      "['Camera could have been better', 'Camera is good and display, battery is average and performance', 'quite a good phone. Value for money and the camera is awesome. Battery life is also good. But some of', 'product. Got this for Rs. 17999 a month ago. Great camera, battery and performance. Clean UI. Lot', 'while using internet is around 10-12hrs, camera is good, charging is fast. Overall i liked it.', 'Bade naam but darshan chote.network issue,average camera,Heating problem,Discharge fast when use', 'to its tall figure 6.7 inch display.3. Camera works pretty well but they should work on it.4. The phone', 'update to solve this.. sensors are good..face unlock not working in low light conditions..Impressed with the fingerprint sensor that', \"phone is ok didn't like the camera at all. Samsung m31 has far better camera than this one. I would suggest anyone thinking of buying\", 'Best 5g Mobile In this Price , Camera Is decent but processer And battery is very good', 'is quite good. Not that much heavy. But little bit costly.camera is not that much of Oppo Phones', \"segment, could've been much much better, extremely poor low light imaging, Moto hasn't disclosed the sensor, hasn't\", 'thrown it in dust bin . Seriously ..poor camera like 2 mp back cam useless and 5g lol .and seriously IMEI doesent', 'is not up-to mark in low light else the camera is good. I would rate the phone 4 out of 5', 'Cherry on top all band 5g network support. Camera is average. Best 5g phone at this price point.', 'The camera quality is good. Initially when I bought the phone and charged', 'Display : GoodPerformance : Super fastCamera : Excellent. Less distortion in zooming photography', 'Average Camera specially front camera.Battery is good and gaming is also good', 'Excellent sound quality, great speed, great picture quality. Great Value for money.', \"Worst investment.Poor camera quilityWorst worst worstDon't buy\"]\n@@@@@@@$$$*#&(#&*#\n['Camera could have been better', 'Camera is good and display, battery is average and performance', 'quite a good phone. Value for money and the camera is awesome. Battery life is also good. But some of', 'product. Got this for Rs. 17999 a month ago. Great camera, battery and performance. Clean UI. Lot', 'while using internet is around 10-12hrs, camera is good, charging is fast. Overall i liked it.', 'Bade naam but darshan chote.network issue,average camera,Heating problem,Discharge fast when use', 'to its tall figure 6.7 inch display.3. Camera works pretty well but they should work on it.4. The phone', 'update to solve this.. sensors are good..face unlock not working in low light conditions..Impressed with the fingerprint sensor that', \"phone is ok didn't like the camera at all. Samsung m31 has far better camera than this one. I would suggest anyone thinking of buying\", 'Best 5g Mobile In this Price , Camera Is decent but processer And battery is very good', 'is quite good. Not that much heavy. But little bit costly.camera is not that much of Oppo Phones', \"segment, could've been much much better, extremely poor low light imaging, Moto hasn't disclosed the sensor, hasn't\", 'thrown it in dust bin . Seriously ..poor camera like 2 mp back cam useless and 5g lol .and seriously IMEI doesent', 'is not up-to mark in low light else the camera is good. I would rate the phone 4 out of 5', 'Cherry on top all band 5g network support. Camera is average. Best 5g phone at this price point.', 'The camera quality is good. Initially when I bought the phone and charged', 'Display : GoodPerformance : Super fastCamera : Excellent. Less distortion in zooming photography', 'Average Camera specially front camera.Battery is good and gaming is also good', 'Excellent sound quality, great speed, great picture quality. Great Value for money.', \"Worst investment.Poor camera quilityWorst worst worstDon't buy\"]\n"
     ]
    }
   ],
   "source": [
    "print(camera_reviews)\n",
    "print('@@@@@@@$$$*#&(#&*#')\n",
    "print(vfm_reviews)"
   ]
  },
  {
   "source": [
    "\n",
    "qq=driver.current_url\n",
    "r2=rq.get(qq)\n",
    "soup=BeautifulSoup(r2.text,'html.parser')\n",
    "per_review=soup.find('div',{'class':'_33iqLu'})\n",
    "for x in per_review.find_all('a',{'class':''}):\n",
    "    # print(x)\n",
    "    x = x.get('href')\n",
    "\n",
    "# print(x)\n",
    "performance_link=x\n",
    "\n",
    "flk_performance_reviews=flipkart_scapper(performance_link)\n",
    "print(flk_performance_reviews)\n"
   ],
   "cell_type": "code",
   "metadata": {},
   "execution_count": 76,
   "outputs": [
    {
     "output_type": "stream",
     "name": "stdout",
     "text": [
      "/moto-g-5g-volcanic-grey-128-gb/product-reviews/itm5bafe435ec358?pid=MOBFTZE7GER2URWX&lid=LSTMOBFTZE7GER2URWXCMILGC&sortOrder=MOST_HELPFUL&certifiedBuyer=false&aid=af9b0aa9-3e0a-4d59-bbb0-8997e7dcfa92\n",
      "['good and display, battery is average and performance is worst it get laged always', 'product. Got this for Rs. 17999 a month ago. Great camera, battery and performance. Clean UI. Lot of Moto features and tweaks', '2 day befor the datehappy bettry nd performance too good', 'cards and sd card simultaneously. Otherwise performance is good. No lag till now.', 'Phone is nice with good battery backup. Performance is good and camera is nice. Heavy in weight but', 'much satisfying to me & can be improved.. Performance is amazing..You will not get any lag while using the', 'Budget friendly phone and good performance', 'Mobile In this Price , Camera Is decent but processer And battery is very good', 'uses the mobile for calls and whatsapp and other office items would appreciate the smooth experience.3/5 for me', 'Solid battery life. Even after heavy usage it lasts 2 days.', \"can't return it. Network of this phone is very bad, performance is also very very bad.\", '60hrz only)If you want a device with 1. Great performance 2. Smooth Ui 3. Great Ram management 4.5G', 'best 5g  smartphone ..good quality & nice performance..best look ,but  camera disent', 'OUTSTANDING PERFORMANCE', 'Comes with stock android experience.2. Good performance phone with snapdragon 750 G..3. Full HD display.4. Multi-volume feature', 'for the price range with 5G capabilities.It is working with super performance and loved it in all terms.', \"almost gives a backup of 2 days.2) The performance is really smooth. I haven't experienced a slightest bit of\", 'Good.no problem..everyone can buy..good processor.', 'Display , performance and battery are good. But during phone call , when the person', \"it's a good phone with decent camera and great performance.\"]\n"
     ]
    }
   ]
  },
  {
   "cell_type": "code",
   "execution_count": 69,
   "metadata": {},
   "outputs": [],
   "source": []
  },
  {
   "cell_type": "code",
   "execution_count": null,
   "metadata": {},
   "outputs": [],
   "source": [
    "flk_camera_list=sentiment_classify(flk_camera_reviews,'Camera')\n",
    "flk_battery_list=sentiment_classify(flk_battery_reviews,'Battery')\n",
    "flk_display_list=sentiment_classify(flk_display_reviews,'Display')\n",
    "flk_vfm_list=sentiment_classify(flk_vfm_reviews,'Money')\n",
    "flk_performance_list=sentiment_classify(flk_performance_reviews,'Performance')"
   ]
  }
 ]
}