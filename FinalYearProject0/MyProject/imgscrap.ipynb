{
 "metadata": {
  "language_info": {
   "codemirror_mode": {
    "name": "ipython",
    "version": 3
   },
   "file_extension": ".py",
   "mimetype": "text/x-python",
   "name": "python",
   "nbconvert_exporter": "python",
   "pygments_lexer": "ipython3",
   "version": "3.7.9-final"
  },
  "orig_nbformat": 2,
  "kernelspec": {
   "name": "python3",
   "display_name": "Python 3.7.9 64-bit",
   "metadata": {
    "interpreter": {
     "hash": "38e7b640556d1cb325d59895c304c05c45c9f079e0dc6b5c1382eca14d8c2696"
    }
   }
  }
 },
 "nbformat": 4,
 "nbformat_minor": 2,
 "cells": [
  {
   "cell_type": "code",
   "execution_count": 58,
   "metadata": {},
   "outputs": [],
   "source": [
    "from selenium import webdriver\n",
    "from bs4 import BeautifulSoup\n",
    "import requests as rq\n",
    "url1=\"https://www.amazon.in/Redmi-Note-Shadow-Black-Storage/dp/B089MTR9JB/ref=sr_1_2?adgrpid=68017837171&dchild=1&ext_vrnc=hi&gclid=CjwKCAiApNSABhAlEiwANuR9YBfljPtrJD1cMZf38IOu5UefJSAfbxO8HWqkhU5NfIAliHLHcXUARhoCZr8QAvD_BwE&hvadid=398059832053&hvdev=c&hvlocphy=9302820&hvnetw=g&hvqmt=b&hvrand=8473745980418304439&hvtargid=kwd-698002923752&hydadcr=24572_1971439&keywords=note+note+9&qid=1612067986&sr=8-2&tag=googinhydr1-21\"\n",
    "driver=webdriver.Chrome(executable_path= r\"C:\\Users\\Chetan Niradwar\\Downloads\\chromedriver.exe\")\n",
    "# driver.maximize_window()\n",
    "driver.get(url1)\n",
    "r1=rq.get(url1)\n",
    "soup1 =BeautifulSoup(driver.page_source,'html.parser')"
   ]
  },
  {
   "cell_type": "code",
   "execution_count": 59,
   "metadata": {
    "tags": []
   },
   "outputs": [
    {
     "output_type": "stream",
     "name": "stdout",
     "text": [
      "<div class=\"a-row a-spacing-top-medium\">\n<center>\n<img alt=\"Redmi Note 9 (Shadow Black, 4GB RAM, 64GB Storage)\" class=\"a-lazy-loaded\" data-src=\"https://m.media-amazon.com/images/I/81CSa7tuHwL._AC_SS350_.jpg\" src=\"https://images-na.ssl-images-amazon.com/images/G/01/x-locale/common/grey-pixel.gif\"/><noscript><img alt=\"Redmi Note 9 (Shadow Black, 4GB RAM, 64GB Storage)\" src=\"https://m.media-amazon.com/images/I/81CSa7tuHwL._AC_SS350_.jpg\"/></noscript>\n</center>\n</div>\n"
     ]
    }
   ],
   "source": [
    "src=soup1.find('div',{'id':'dpx-btf-hlcx-comparison_feature_div'})\n",
    "src=src.find('div',{'class':'a-row a-spacing-top-medium'})\n",
    "print(src)"
   ]
  },
  {
   "cell_type": "code",
   "execution_count": 60,
   "metadata": {},
   "outputs": [
    {
     "output_type": "stream",
     "name": "stdout",
     "text": [
      "<img alt=\"Redmi Note 9 (Shadow Black, 4GB RAM, 64GB Storage)\" class=\"a-lazy-loaded\" data-src=\"https://m.media-amazon.com/images/I/81CSa7tuHwL._AC_SS350_.jpg\" src=\"https://images-na.ssl-images-amazon.com/images/G/01/x-locale/common/grey-pixel.gif\"/>\n"
     ]
    }
   ],
   "source": [
    "print(src.find('img',{'class':'a-lazy-loaded'}))\n",
    "\n",
    "srcV1=src.find('img',{'class':'a-lazy-loaded'})"
   ]
  },
  {
   "cell_type": "code",
   "execution_count": 61,
   "metadata": {},
   "outputs": [
    {
     "output_type": "stream",
     "name": "stdout",
     "text": [
      "https://m.media-amazon.com/images/I/81CSa7tuHwL._AC_SS350_.jpg\n"
     ]
    }
   ],
   "source": [
    "srcV2=srcV1.get('data-src')\n",
    "print(srcV2)\n"
   ]
  },
  {
   "cell_type": "code",
   "execution_count": 49,
   "metadata": {
    "tags": []
   },
   "outputs": [
    {
     "output_type": "stream",
     "name": "stdout",
     "text": [
      "[<div class=\"attribute-heading-label\">\n<span class=\"a-size-base\">Rear Camera Lens 1</span>\n</div>, <div class=\"attribute-heading-label\">\n<span class=\"a-size-base\">Rear Camera Lens 2</span>\n</div>, <div class=\"attribute-heading-label\">\n<span class=\"a-size-base\">Screen Size</span>\n</div>, <div class=\"attribute-heading-label\">\n<span class=\"a-size-base\">Screen Type</span>\n</div>, <div class=\"attribute-heading-label\">\n<span class=\"a-size-base\">Battery Power (In mAH)</span>\n</div>, <div class=\"attribute-heading-label\">\n<span class=\"a-size-base\">RAM</span>\n</div>, <div class=\"attribute-heading-label\">\n<span class=\"a-size-base\">Inbuilt Storage (in GB)</span>\n</div>, <div class=\"attribute-heading-label\">\n<span class=\"a-size-base\">Expandable Storage</span>\n</div>, <div class=\"attribute-heading-label\">\n<span class=\"a-size-base\">Processor Brand</span>\n</div>, <div class=\"attribute-heading-label\">\n<span class=\"a-size-base\">Operating System</span>\n</div>, <div class=\"attribute-heading-label\">\n<span class=\"a-size-base\">Warranty Details</span>\n</div>, <div class=\"attribute-heading-label\">\n<span class=\"a-size-base\">Rear Camera Lens 1</span>\n</div>, <div class=\"attribute-heading-label\">\n<span class=\"a-size-base\">Rear Camera Lens 2</span>\n</div>, <div class=\"attribute-heading-label\">\n<span class=\"a-size-base\">Screen Size</span>\n</div>, <div class=\"attribute-heading-label\">\n<span class=\"a-size-base\">Screen Type</span>\n</div>, <div class=\"attribute-heading-label\">\n<span class=\"a-size-base\">Battery Power (In mAH)</span>\n</div>, <div class=\"attribute-heading-label\">\n<span class=\"a-size-base\">Battery type</span>\n</div>, <div class=\"attribute-heading-label\">\n<span class=\"a-size-base\">RAM</span>\n</div>, <div class=\"attribute-heading-label\">\n<span class=\"a-size-base\">Inbuilt Storage (in GB)</span>\n</div>, <div class=\"attribute-heading-label\">\n<span class=\"a-size-base\">Expandable Storage</span>\n</div>, <div class=\"attribute-heading-label\">\n<span class=\"a-size-base\">Processor Brand</span>\n</div>, <div class=\"attribute-heading-label\">\n<span class=\"a-size-base\">Processor Speed</span>\n</div>, <div class=\"attribute-heading-label\">\n<span class=\"a-size-base\">Operating System</span>\n</div>, <div class=\"attribute-heading-label\">\n<span class=\"a-size-base\">Item Weight</span>\n</div>, <div class=\"attribute-heading-label\">\n<span class=\"a-size-base\">Warranty Details</span>\n</div>, <div class=\"attribute-heading-label\">\n<span class=\"a-size-base\">What's in the box</span>\n</div>, <div class=\"attribute-heading-label\">\n<span class=\"a-size-base\">Additional Features</span>\n</div>, <div class=\"attribute-heading-label\">\n<span class=\"a-size-base\">Item Dimensions</span>\n</div>]\n"
     ]
    }
   ],
   "source": [
    "  RAM1= soup1.find_all('div',{'class':'attribute-heading-label'})\n",
    "  print(RAM1)\n",
    "        "
   ]
  },
  {
   "cell_type": "code",
   "execution_count": 55,
   "metadata": {},
   "outputs": [
    {
     "output_type": "stream",
     "name": "stdout",
     "text": [
      "['PrimaryCamera', 'Rear Camera Lens 2', 'Screen Size', 'ResolutionType', 'BatteryCapacity', 'RAM', 'InternalStorage', 'Expandable Storage', 'ProcessorType', 'Operating System', 'WarrantySummary', 'Rear Camera Lens 1', 'Screen Type', 'OtherFeatures', 'Battery type', 'Inbuilt Storage (in GB)', 'Processor Brand', 'Processor Speed', 'Item Weight', 'Warranty Details', \"What's in the box\", 'Additional Features', 'Item Dimensions']\n"
     ]
    }
   ],
   "source": [
    "spects=[]\n",
    "for ele1 in RAM1:\n",
    "            ram1=ele1.get_text()\n",
    "            newram=ram1.replace(\"\\n\",\"\")\n",
    "            spects.append(newram)\n",
    "spects[0]=\"PrimaryCamera\"\n",
    "spects[3]=\"ResolutionType\"\n",
    "spects[4]=\"BatteryCapacity\"\n",
    "spects[6]=\"InternalStorage\"\n",
    "spects[8]=\"ProcessorType\"\n",
    "spects[10]=\"WarrantySummary\"\n",
    "spects[15]=\"OtherFeatures\"\n",
    "spects_set = [] \n",
    "for i in spects: \n",
    "    if i not in spects_set: \n",
    "        spects_set.append(i)\n",
    "print(spects_set)\n",
    "            \n",
    "         "
   ]
  },
  {
   "cell_type": "code",
   "execution_count": 56,
   "metadata": {},
   "outputs": [
    {
     "output_type": "stream",
     "name": "stdout",
     "text": [
      "[<td class=\"base-item-column\">\n\n\n\n\n\n\n\n48\n\n\n\n</td>, <td class=\"base-item-column\">\n\n\n\n\n\n\n\n13\n\n\n\n</td>, <td class=\"base-item-column\">\n\n\n\n\n\n\n\n6.53 in\n\n\n\n</td>, <td class=\"base-item-column\">\n\n\n\n\n\n\n\n2340 x 1080\n\n\n\n</td>, <td class=\"base-item-column\">\n\n\n\n\n\n\n\n5020\n\n\n\n</td>, <td class=\"base-item-column\">\n\n\n\n\n\n\n\n4 GB\n\n\n\n</td>, <td class=\"base-item-column\">\n\n\n\n\n\n\n\n64\n\n\n\n</td>, <td class=\"base-item-column\">\n\n\n\n\n\n\n\n64 GB\n\n\n\n</td>, <td class=\"base-item-column\">\n\n\n\n\n\n\n\nMediatek Helio G85\n\n\n\n</td>, <td class=\"base-item-column\">\n\n\n\n\n\n\n\nAndroid\n\n\n\n</td>, <td class=\"base-item-column\">\n\n\n\n\n\n\n\n1 year manufacturer warranty for device and 6 months manufacturer warranty for in-box accessories including batteries from the date of purchase\n\n\n\n</td>, <td class=\"base-item-column\">\n\n\n\n\n\n\n\n48\n\n\n\n</td>, <td class=\"base-item-column\">\n\n\n\n\n\n\n\n13\n\n\n\n</td>, <td class=\"base-item-column\">\n\n\n\n\n\n\n\n6.53 in\n\n\n\n</td>, <td class=\"base-item-column\">\n\n\n\n\n\n\n\n2340 x 1080\n\n\n\n</td>, <td class=\"base-item-column\">\n\n\n\n\n\n\n\n5020\n\n\n\n</td>, <td class=\"base-item-column\">\n\n\n\n\n\n\n\nLithium Polymer\n\n\n\n</td>, <td class=\"base-item-column\">\n\n\n\n\n\n\n\n4 GB\n\n\n\n</td>, <td class=\"base-item-column\">\n\n\n\n\n\n\n\n64\n\n\n\n</td>, <td class=\"base-item-column\">\n\n\n\n\n\n\n\n64 GB\n\n\n\n</td>, <td class=\"base-item-column\">\n\n\n\n\n\n\n\nMediatek Helio G85\n\n\n\n</td>, <td class=\"base-item-column\">\n\n\n\n\n\n\n\n2 GHz\n\n\n\n</td>, <td class=\"base-item-column\">\n\n\n\n\n\n\n\nAndroid\n\n\n\n</td>, <td class=\"base-item-column\">\n\n\n\n\n\n\n\n199 grammes\n\n\n\n</td>, <td class=\"base-item-column\">\n\n\n\n\n\n\n\n1 year manufacturer warranty for device and 6 months manufacturer warranty for in-box accessories including batteries from the date of purchase\n\n\n\n</td>, <td class=\"base-item-column\">\n\n\n\n\n\n\n\nHandset, Power Adapter, USB Cable, SIM Eject Tool, Warranty Card, User Guide and Clear Soft Case\n\n\n\n</td>, <td class=\"base-item-column\">\n\n\n\n\n\n\n\nDual SIM; GPS; Music Player; Video Player; Gyroscope; Infrared; Proximity sensor; Accelerometer; Ambient light sensor; E-mail\n\n\n\n</td>, <td class=\"base-item-column\">\n\n\n\n\n\n\n\n16.1 x 0.9 x 7.7 cm\n\n\n\n</td>]\n"
     ]
    }
   ],
   "source": [
    "RAM2= soup1.find_all('td',{'class':'base-item-column'})\n",
    "print(RAM2)"
   ]
  },
  {
   "cell_type": "code",
   "execution_count": 53,
   "metadata": {},
   "outputs": [
    {
     "output_type": "stream",
     "name": "stdout",
     "text": [
      "['48', '13', '6.53 in', '2340 x 1080', '5020', '4 GB', '64', '64 GB', 'Mediatek Helio G85', 'Android', '1 year manufacturer warranty for device and 6 months manufacturer warranty for in-box accessories including batteries from the date of purchase', 'Lithium Polymer', '2 GHz', '199 grammes', 'Handset, Power Adapter, USB Cable, SIM Eject Tool, Warranty Card, User Guide and Clear Soft Case', 'Dual SIM; GPS; Music Player; Video Player; Gyroscope; Infrared; Proximity sensor; Accelerometer; Ambient light sensor; E-mail', '16.1 x 0.9 x 7.7 cm']\n"
     ]
    }
   ],
   "source": [
    "key_spects=[]\n",
    "for ele1 in RAM2:\n",
    "            ram1=ele1.get_text()\n",
    "            newram=ram1.replace(\"\\n\",\"\")\n",
    "            key_spects.append(newram)\n",
    "key_spects_set = [] \n",
    "for i in key_spects: \n",
    "    if i not in key_spects_set: \n",
    "        key_spects_set.append(i)\n",
    "print(key_spects_set)"
   ]
  },
  {
   "cell_type": "code",
   "execution_count": 57,
   "metadata": {},
   "outputs": [
    {
     "output_type": "stream",
     "name": "stdout",
     "text": [
      "{'PrimaryCamera': '48', 'Rear Camera Lens 2': '13', 'Screen Size': '6.53 in', 'ResolutionType': '2340 x 1080', 'BatteryCapacity': '5020', 'RAM': '4 GB', 'InternalStorage': '64', 'Expandable Storage': '64 GB', 'ProcessorType': 'Mediatek Helio G85', 'Operating System': 'Android', 'WarrantySummary': '1 year manufacturer warranty for device and 6 months manufacturer warranty for in-box accessories including batteries from the date of purchase', 'Rear Camera Lens 1': '48', 'Screen Type': '2340 x 1080', 'OtherFeatures': '5020', 'Battery type': 'Lithium Polymer', 'Inbuilt Storage (in GB)': '64', 'Processor Brand': 'Mediatek Helio G85', 'Processor Speed': '2 GHz', 'Item Weight': '199 grammes', 'Warranty Details': '1 year manufacturer warranty for device and 6 months manufacturer warranty for in-box accessories including batteries from the date of purchase', \"What's in the box\": 'Handset, Power Adapter, USB Cable, SIM Eject Tool, Warranty Card, User Guide and Clear Soft Case', 'Additional Features': 'Dual SIM; GPS; Music Player; Video Player; Gyroscope; Infrared; Proximity sensor; Accelerometer; Ambient light sensor; E-mail', 'Item Dimensions': '16.1 x 0.9 x 7.7 cm'}\n"
     ]
    }
   ],
   "source": [
    "dict1=dict(zip(spects,key_spects))\n",
    "print(dict1)"
   ]
  },
  {
   "cell_type": "code",
   "execution_count": null,
   "metadata": {},
   "outputs": [],
   "source": []
  },
  {
   "cell_type": "code",
   "execution_count": null,
   "metadata": {},
   "outputs": [],
   "source": [
    "src=soup1.find('div',{'class':'imgTagWrapper'})\n",
    "        print(src)\n",
    "        print(src.find('img',{'class':'a-dynamic-image a-stretch-vertical'}))\n",
    "        srcV1=src.find('img',{'class':'a-dynamic-image a-stretch-vertical'})\n",
    "        print(srcV1.get('src'))"
   ]
  }
 ]
}